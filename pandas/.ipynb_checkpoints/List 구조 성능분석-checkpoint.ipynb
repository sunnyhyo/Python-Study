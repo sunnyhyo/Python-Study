{
 "cells": [
  {
   "cell_type": "markdown",
   "metadata": {},
   "source": [
    "# List 구조 성능분석\n",
    "\n",
    "Python의 List 구조 성능분석\n",
    "\n",
    "출처 : https://smlee729.github.io/python/data%20structure/2015/03/02/1-list-allocation.html"
   ]
  },
  {
   "cell_type": "code",
   "execution_count": 6,
   "metadata": {},
   "outputs": [],
   "source": [
    "import pandas as pd"
   ]
  },
  {
   "cell_type": "code",
   "execution_count": 7,
   "metadata": {},
   "outputs": [],
   "source": [
    "item_metadata = pd.read_csv('C:/Users/HS/Documents/GitHub/Recommendation system/data/item_metadata_v2.csv')"
   ]
  },
  {
   "cell_type": "markdown",
   "metadata": {},
   "source": [
    "<방법 1> : 0부터 N-1까지 for문을 돌면서 계속 append해 나가는 방법입니다.  \n",
    "    append라는 함수 자체가 기존에 할당된 공간을 확장해야 하기 때문에, 만약에 연속된 메모리의 자리가 없을 경우 새롭게 큰 공간을 만들어 모든 값들을 이사시켜야 하는 단점이 있습니다. 여기서 바로 꽤나 큰 overhead가 발생하게 되서 상대적으로 느립니다."
   ]
  },
  {
   "cell_type": "code",
   "execution_count": 3,
   "metadata": {},
   "outputs": [],
   "source": [
    "def makeListUsingAppend(N):\n",
    "    result = []\n",
    "    for i in range(N):\n",
    "        result.append(i)\n",
    "    return result"
   ]
  },
  {
   "cell_type": "code",
   "execution_count": 3,
   "metadata": {},
   "outputs": [
    {
     "data": {
      "text/plain": [
       "[0, 1, 2, 3, 4, 5, 6, 7, 8, 9]"
      ]
     },
     "execution_count": 3,
     "metadata": {},
     "output_type": "execute_result"
    }
   ],
   "source": [
    "a_ = makeListUsingAppend(10)\n",
    "a_"
   ]
  },
  {
   "cell_type": "code",
   "execution_count": 4,
   "metadata": {},
   "outputs": [
    {
     "name": "stdout",
     "output_type": "stream",
     "text": [
      "걸린시간 : 1.29e-01\n"
     ]
    }
   ],
   "source": [
    "from time import time\n",
    "t0 = time()\n",
    "makeListUsingAppend(1000000)\n",
    "print(\"걸린시간 : %.2e\" % (time()-t0))"
   ]
  },
  {
   "cell_type": "markdown",
   "metadata": {},
   "source": [
    "<방법 2> : 이번 방법은 조금 더 smart합니다. 이미 우리는 얼마나 큰 공간을 만들어야 하는지 알기 때문에, 미리 N개의 공간을 만들어 놓고, 값만 바꿔줍니다. 실제로 메모리 할당에 드는 overhead가 가장 무지막지하기 때문에 이 방법은 1.5배 정도까지 시간을 줄여주네요."
   ]
  },
  {
   "cell_type": "code",
   "execution_count": 6,
   "metadata": {},
   "outputs": [],
   "source": [
    "def makeListUsingBulkAlloc(N):\n",
    "    result = [0]*N #한번에 N개의 공간을 0으로 채우는 방법입니다.\n",
    "    for i in range(N):\n",
    "        result[i] = i\n",
    "    return result"
   ]
  },
  {
   "cell_type": "code",
   "execution_count": 5,
   "metadata": {},
   "outputs": [
    {
     "data": {
      "text/plain": [
       "[0, 1, 2, 3, 4, 5, 6, 7, 8, 9]"
      ]
     },
     "execution_count": 5,
     "metadata": {},
     "output_type": "execute_result"
    }
   ],
   "source": [
    "b_ = makeListUsingAppend(10)\n",
    "b_"
   ]
  },
  {
   "cell_type": "code",
   "execution_count": 7,
   "metadata": {},
   "outputs": [
    {
     "name": "stdout",
     "output_type": "stream",
     "text": [
      "걸린시간 : 7.68e-02\n"
     ]
    }
   ],
   "source": [
    "t0 = time()\n",
    "makeListUsingBulkAlloc(1000000)\n",
    "print(\"걸린시간 : %.2e\" % (time()-t0))"
   ]
  }
 ],
 "metadata": {
  "kernelspec": {
   "display_name": "Python 3",
   "language": "python",
   "name": "python3"
  },
  "language_info": {
   "codemirror_mode": {
    "name": "ipython",
    "version": 3
   },
   "file_extension": ".py",
   "mimetype": "text/x-python",
   "name": "python",
   "nbconvert_exporter": "python",
   "pygments_lexer": "ipython3",
   "version": "3.6.5"
  }
 },
 "nbformat": 4,
 "nbformat_minor": 2
}

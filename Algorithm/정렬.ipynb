{
 "cells": [
  {
   "cell_type": "code",
   "execution_count": 39,
   "metadata": {},
   "outputs": [],
   "source": [
    "# 삽입정렬\n",
    "def insert_sort(a):\n",
    "    n = len(a)\n",
    "    print('n:', n)\n",
    "    \n",
    "    for i in range(1, n):  # 1부터 n 까지\n",
    "        key = a[i]  # i 번 위치에 있는 값을 key 에 저장\n",
    "        j = i - 1  # j 를 i 바로 왼쪽으로 저장\n",
    "        print('i:',i, 'j:', j, 'key:', key)\n",
    "\n",
    "        # 리스트의 i 번 위치에 있는 값과 key 를 비교해 key 가 삽입될 적절한 위치를 찾음\n",
    "        while a[j] > key and j >= 0:\n",
    "            a[j+1] = a[j]  # 삽입할 공간이 생기도록 값을 오른쪽으로 한 칸 이동\n",
    "            j = j - 1\n",
    "            print('i:', i, 'j:', j, 'key:', key, a)\n",
    "        a[j+1] = key  # 찾은 삽입 위치에 key 를 저장\n",
    "        print('i:', i, 'j:', j, 'key:', key, a)\n",
    "        print('')\n",
    "    return a\n"
   ]
  },
  {
   "cell_type": "code",
   "execution_count": 40,
   "metadata": {},
   "outputs": [
    {
     "name": "stdout",
     "output_type": "stream",
     "text": [
      "n: 10\n",
      "i: 1 j: 0 key: 3\n",
      "i: 1 j: -1 key: 3 [21, 21, 12, 15, 7, 32, 4, 25, 9, 17]\n",
      "i: 1 j: -1 key: 3 [3, 21, 12, 15, 7, 32, 4, 25, 9, 17]\n",
      "\n",
      "i: 2 j: 1 key: 12\n",
      "i: 2 j: 0 key: 12 [3, 21, 21, 15, 7, 32, 4, 25, 9, 17]\n",
      "i: 2 j: 0 key: 12 [3, 12, 21, 15, 7, 32, 4, 25, 9, 17]\n",
      "\n",
      "i: 3 j: 2 key: 15\n",
      "i: 3 j: 1 key: 15 [3, 12, 21, 21, 7, 32, 4, 25, 9, 17]\n",
      "i: 3 j: 1 key: 15 [3, 12, 15, 21, 7, 32, 4, 25, 9, 17]\n",
      "\n",
      "i: 4 j: 3 key: 7\n",
      "i: 4 j: 2 key: 7 [3, 12, 15, 21, 21, 32, 4, 25, 9, 17]\n",
      "i: 4 j: 1 key: 7 [3, 12, 15, 15, 21, 32, 4, 25, 9, 17]\n",
      "i: 4 j: 0 key: 7 [3, 12, 12, 15, 21, 32, 4, 25, 9, 17]\n",
      "i: 4 j: 0 key: 7 [3, 7, 12, 15, 21, 32, 4, 25, 9, 17]\n",
      "\n",
      "i: 5 j: 4 key: 32\n",
      "i: 5 j: 4 key: 32 [3, 7, 12, 15, 21, 32, 4, 25, 9, 17]\n",
      "\n",
      "i: 6 j: 5 key: 4\n",
      "i: 6 j: 4 key: 4 [3, 7, 12, 15, 21, 32, 32, 25, 9, 17]\n",
      "i: 6 j: 3 key: 4 [3, 7, 12, 15, 21, 21, 32, 25, 9, 17]\n",
      "i: 6 j: 2 key: 4 [3, 7, 12, 15, 15, 21, 32, 25, 9, 17]\n",
      "i: 6 j: 1 key: 4 [3, 7, 12, 12, 15, 21, 32, 25, 9, 17]\n",
      "i: 6 j: 0 key: 4 [3, 7, 7, 12, 15, 21, 32, 25, 9, 17]\n",
      "i: 6 j: 0 key: 4 [3, 4, 7, 12, 15, 21, 32, 25, 9, 17]\n",
      "\n",
      "i: 7 j: 6 key: 25\n",
      "i: 7 j: 5 key: 25 [3, 4, 7, 12, 15, 21, 32, 32, 9, 17]\n",
      "i: 7 j: 5 key: 25 [3, 4, 7, 12, 15, 21, 25, 32, 9, 17]\n",
      "\n",
      "i: 8 j: 7 key: 9\n",
      "i: 8 j: 6 key: 9 [3, 4, 7, 12, 15, 21, 25, 32, 32, 17]\n",
      "i: 8 j: 5 key: 9 [3, 4, 7, 12, 15, 21, 25, 25, 32, 17]\n",
      "i: 8 j: 4 key: 9 [3, 4, 7, 12, 15, 21, 21, 25, 32, 17]\n",
      "i: 8 j: 3 key: 9 [3, 4, 7, 12, 15, 15, 21, 25, 32, 17]\n",
      "i: 8 j: 2 key: 9 [3, 4, 7, 12, 12, 15, 21, 25, 32, 17]\n",
      "i: 8 j: 2 key: 9 [3, 4, 7, 9, 12, 15, 21, 25, 32, 17]\n",
      "\n",
      "i: 9 j: 8 key: 17\n",
      "i: 9 j: 7 key: 17 [3, 4, 7, 9, 12, 15, 21, 25, 32, 32]\n",
      "i: 9 j: 6 key: 17 [3, 4, 7, 9, 12, 15, 21, 25, 25, 32]\n",
      "i: 9 j: 5 key: 17 [3, 4, 7, 9, 12, 15, 21, 21, 25, 32]\n",
      "i: 9 j: 5 key: 17 [3, 4, 7, 9, 12, 15, 17, 21, 25, 32]\n",
      "\n",
      "[3, 4, 7, 9, 12, 15, 17, 21, 25, 32]\n"
     ]
    }
   ],
   "source": [
    "a = [21, 3, 12, 15, 7, 32, 4, 25, 9, 17]\n",
    "print(insert_sort(a))"
   ]
  },
  {
   "cell_type": "code",
   "execution_count": null,
   "metadata": {},
   "outputs": [],
   "source": []
  }
 ],
 "metadata": {
  "kernelspec": {
   "display_name": "Python 3",
   "language": "python",
   "name": "python3"
  },
  "language_info": {
   "codemirror_mode": {
    "name": "ipython",
    "version": 3
   },
   "file_extension": ".py",
   "mimetype": "text/x-python",
   "name": "python",
   "nbconvert_exporter": "python",
   "pygments_lexer": "ipython3",
   "version": "3.6.5"
  }
 },
 "nbformat": 4,
 "nbformat_minor": 2
}
